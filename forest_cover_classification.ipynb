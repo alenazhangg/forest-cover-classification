{
  "nbformat": 4,
  "nbformat_minor": 0,
  "metadata": {
    "colab": {
      "name": "forest_cover_classification.ipynb",
      "provenance": [],
      "collapsed_sections": [],
      "authorship_tag": "ABX9TyN6rF7pf4QfZUZUcwelx+Tb",
      "include_colab_link": true
    },
    "kernelspec": {
      "name": "python3",
      "display_name": "Python 3"
    },
    "accelerator": "GPU"
  },
  "cells": [
    {
      "cell_type": "markdown",
      "metadata": {
        "id": "view-in-github",
        "colab_type": "text"
      },
      "source": [
        "<a href=\"https://colab.research.google.com/github/alenazhangg/forest-cover-classification/blob/main/forest_cover_classification.ipynb\" target=\"_parent\"><img src=\"https://colab.research.google.com/assets/colab-badge.svg\" alt=\"Open In Colab\"/></a>"
      ]
    },
    {
      "cell_type": "markdown",
      "metadata": {
        "id": "9gnJtDI7fpgP"
      },
      "source": [
        "# **Forest Cover Classification**"
      ]
    },
    {
      "cell_type": "markdown",
      "metadata": {
        "id": "27wL2RCKiOCp"
      },
      "source": [
        "In this project, I will be predicting **forest cover type** based on various **cartographic variables**. \n",
        "\n",
        "\n",
        "The possible forest cover types are:\n",
        "\n",
        "*  Spruce/fir\n",
        "*  Lodgepole pine\n",
        "*  Ponderosa pine\n",
        "*  Cottonwood/willow\n",
        "*  Aspen,\n",
        "*  Douglas-fir \n",
        "*  Krummholz\n",
        "\n",
        "\n",
        "The data I will be using contains **581,012 observations** of 30x30 meter cells taken 4 wilderness areas located in **Roosevelt National Forest**. \n",
        "\n",
        "Each observation has **55 columns**, 54 of which are various variables (ex: soil type, elevation) derived from data collected by the US Geological Survey and USFS. The remaining column specifies the classification of the forest cover type for the observation, determined by the US Forest Service.\n"
      ]
    },
    {
      "cell_type": "markdown",
      "metadata": {
        "id": "oiEq9CrwjuyE"
      },
      "source": [
        "## **Imports**\n",
        "The .csv file is contained in my Google Drive."
      ]
    },
    {
      "cell_type": "code",
      "metadata": {
        "colab": {
          "base_uri": "https://localhost:8080/"
        },
        "id": "g0GFlf2kT6Wa",
        "outputId": "8acf1e01-33d5-44c9-9d61-e0736243fb12"
      },
      "source": [
        "import pandas as pd\n",
        "import numpy as np\n",
        "\n",
        "import matplotlib.pyplot as plt\n",
        "import seaborn as sns\n",
        "\n",
        "from sklearn.model_selection import train_test_split\n",
        "from sklearn.preprocessing import StandardScaler\n",
        "from tensorflow.keras.models import Sequential\n",
        "from tensorflow.keras.layers import InputLayer\n",
        "from tensorflow.keras.layers import Dropout\n",
        "from tensorflow.keras.layers import Dense\n",
        "from tensorflow.keras.optimizers import Adam\n",
        "from tensorflow.keras.callbacks import EarlyStopping\n",
        "\n",
        "from sklearn.metrics import confusion_matrix\n",
        "from sklearn.metrics import classification_report\n",
        "\n",
        "from google.colab import drive\n",
        "drive.mount('/content/drive')\n",
        "print('modules imported')"
      ],
      "execution_count": null,
      "outputs": [
        {
          "output_type": "stream",
          "text": [
            "Drive already mounted at /content/drive; to attempt to forcibly remount, call drive.mount(\"/content/drive\", force_remount=True).\n",
            "modules imported\n"
          ],
          "name": "stdout"
        }
      ]
    },
    {
      "cell_type": "markdown",
      "metadata": {
        "id": "lqMJ9Aqbis9j"
      },
      "source": [
        "## **Load and Prepare Data**"
      ]
    },
    {
      "cell_type": "markdown",
      "metadata": {
        "id": "JbhSeyUpj3lo"
      },
      "source": [
        "Load the .csv file into a dataframe. \n",
        "\n",
        "The file contains binary columns of data for qualitative independent variables such as wilderness areas and soil type."
      ]
    },
    {
      "cell_type": "code",
      "metadata": {
        "colab": {
          "base_uri": "https://localhost:8080/"
        },
        "id": "UDqXGzogUOUT",
        "outputId": "832becb9-a5ce-4602-cc7d-72af29911246"
      },
      "source": [
        "raw = pd.read_csv('drive/MyDrive/Forest_Cover_Classification/cover_data.csv')\n",
        "print(f'Data: \\n{raw.head()}')\n",
        "\n",
        "#Obtain the column labels for the features and class\n",
        "cols = raw.columns.tolist()\n",
        "features = cols[:-1]\n",
        "label = cols[-1]\n",
        "print(f'Features: \\n{features}')\n",
        "print(f'Label: \\n{label}')\n",
        "\n",
        "#Split raw data into the class and independent variables\n",
        "raw_data = raw.values\n",
        "X = raw_data[:, :-1]\n",
        "y = raw_data[:, -1]"
      ],
      "execution_count": null,
      "outputs": [
        {
          "output_type": "stream",
          "text": [
            "Data: \n",
            "   Elevation  Aspect  Slope  ...  Soil_Type39  Soil_Type40  class\n",
            "0       2596      51      3  ...            0            0      5\n",
            "1       2590      56      2  ...            0            0      5\n",
            "2       2804     139      9  ...            0            0      2\n",
            "3       2785     155     18  ...            0            0      2\n",
            "4       2595      45      2  ...            0            0      5\n",
            "\n",
            "[5 rows x 55 columns]\n",
            "Features: \n",
            "['Elevation', 'Aspect', 'Slope', 'Horizontal_Distance_To_Hydrology', 'Vertical_Distance_To_Hydrology', 'Horizontal_Distance_To_Roadways', 'Hillshade_9am', 'Hillshade_Noon', 'Hillshade_3pm', 'Horizontal_Distance_To_Fire_Points', 'Wilderness_Area1', 'Wilderness_Area2', 'Wilderness_Area3', 'Wilderness_Area4', 'Soil_Type1', 'Soil_Type2', 'Soil_Type3', 'Soil_Type4', 'Soil_Type5', 'Soil_Type6', 'Soil_Type7', 'Soil_Type8', 'Soil_Type9', 'Soil_Type10', 'Soil_Type11', 'Soil_Type12', 'Soil_Type13', 'Soil_Type14', 'Soil_Type15', 'Soil_Type16', 'Soil_Type17', 'Soil_Type18', 'Soil_Type19', 'Soil_Type20', 'Soil_Type21', 'Soil_Type22', 'Soil_Type23', 'Soil_Type24', 'Soil_Type25', 'Soil_Type26', 'Soil_Type27', 'Soil_Type28', 'Soil_Type29', 'Soil_Type30', 'Soil_Type31', 'Soil_Type32', 'Soil_Type33', 'Soil_Type34', 'Soil_Type35', 'Soil_Type36', 'Soil_Type37', 'Soil_Type38', 'Soil_Type39', 'Soil_Type40']\n",
            "Label: \n",
            "class\n"
          ],
          "name": "stdout"
        }
      ]
    },
    {
      "cell_type": "markdown",
      "metadata": {
        "id": "FFMEKiDTcAaH"
      },
      "source": [
        "Split the data into a training and testing data set (20% of data is reserved for testing)."
      ]
    },
    {
      "cell_type": "code",
      "metadata": {
        "id": "nnCaCwA3WFvT"
      },
      "source": [
        "features_train, features_test, label_train, label_test = train_test_split(\n",
        "    X, \n",
        "    y,\n",
        "    test_size=0.2, \n",
        "    random_state=42,\n",
        "    stratify=y\n",
        ")"
      ],
      "execution_count": null,
      "outputs": []
    },
    {
      "cell_type": "markdown",
      "metadata": {
        "id": "ys9jl2izk2ey"
      },
      "source": [
        "Scale the numerical data with a **StandardScaler**, which rescales data to have a zero mean and unit variance."
      ]
    },
    {
      "cell_type": "code",
      "metadata": {
        "id": "MUTrsxFUWXO7"
      },
      "source": [
        "scaler = StandardScaler()\n",
        "features_train = scaler.fit_transform(features_train)\n",
        "features_test = scaler.transform(features_test)"
      ],
      "execution_count": null,
      "outputs": []
    },
    {
      "cell_type": "markdown",
      "metadata": {
        "id": "28KQorz9kffz"
      },
      "source": [
        "## **Build and Compile Model**"
      ]
    },
    {
      "cell_type": "markdown",
      "metadata": {
        "id": "WDJ5tpx4k7rC"
      },
      "source": [
        "Design the model architecture by adding an **input layer**, **hidden layers**, and an **output layer**."
      ]
    },
    {
      "cell_type": "code",
      "metadata": {
        "colab": {
          "base_uri": "https://localhost:8080/"
        },
        "id": "GrJYAd8yWvVZ",
        "outputId": "0f7f9dbd-9ed1-4171-f64c-f8171770c9b3"
      },
      "source": [
        "model = Sequential()\n",
        "\n",
        "#Input layer\n",
        "model.add(Dense(64, input_dim=len(features), activation='relu'))\n",
        "\n",
        "#Hidden layers\n",
        "#model.add(Dropout(0.3))\n",
        "model.add(Dense(32, activation='relu'))\n",
        "#model.add(Dropout(0.3))\n",
        "\n",
        "#Output layer with 8 potential outputs for the 8 forest cover types\n",
        "model.add(Dense(8, activation='softmax'))\n",
        "model.compile(\n",
        "    loss=\"sparse_categorical_crossentropy\",\n",
        "    metrics=[\"accuracy\"],\n",
        "    optimizer='adam'\n",
        ")\n",
        "model.summary()"
      ],
      "execution_count": null,
      "outputs": [
        {
          "output_type": "stream",
          "text": [
            "Model: \"sequential_7\"\n",
            "_________________________________________________________________\n",
            "Layer (type)                 Output Shape              Param #   \n",
            "=================================================================\n",
            "dense_25 (Dense)             (None, 64)                3520      \n",
            "_________________________________________________________________\n",
            "dense_26 (Dense)             (None, 32)                2080      \n",
            "_________________________________________________________________\n",
            "dense_27 (Dense)             (None, 8)                 264       \n",
            "=================================================================\n",
            "Total params: 5,864\n",
            "Trainable params: 5,864\n",
            "Non-trainable params: 0\n",
            "_________________________________________________________________\n"
          ],
          "name": "stdout"
        }
      ]
    },
    {
      "cell_type": "markdown",
      "metadata": {
        "id": "OdtGi07pk87f"
      },
      "source": [
        "## **Train Model**"
      ]
    },
    {
      "cell_type": "markdown",
      "metadata": {
        "id": "bebva1nplCum"
      },
      "source": [
        "1. Add an **EarlyStopping** object to avoid overfitting the data. \n",
        "2. Train the deep learning model on the training dataset."
      ]
    },
    {
      "cell_type": "code",
      "metadata": {
        "colab": {
          "base_uri": "https://localhost:8080/"
        },
        "id": "khBDUY8jYKWm",
        "outputId": "bc4c010d-b0b8-40af-8ddb-a88e0ca1eac4"
      },
      "source": [
        "callback = EarlyStopping(\n",
        "    monitor='val_accuracy',\n",
        "    min_delta=0.0001,\n",
        "    patience=3\n",
        ")\n",
        "\n",
        "history=model.fit(\n",
        "    features_train,\n",
        "    label_train,\n",
        "    epochs=100,\n",
        "    batch_size=1024,\n",
        "    callbacks=[callback],\n",
        "    validation_split = 0.1,\n",
        "    verbose=1\n",
        ")"
      ],
      "execution_count": null,
      "outputs": [
        {
          "output_type": "stream",
          "text": [
            "Epoch 1/100\n",
            "409/409 [==============================] - 1s 3ms/step - loss: 1.0271 - accuracy: 0.6365 - val_loss: 0.6083 - val_accuracy: 0.7401\n",
            "Epoch 2/100\n",
            "409/409 [==============================] - 1s 2ms/step - loss: 0.5883 - accuracy: 0.7500 - val_loss: 0.5552 - val_accuracy: 0.7592\n",
            "Epoch 3/100\n",
            "409/409 [==============================] - 1s 2ms/step - loss: 0.5446 - accuracy: 0.7659 - val_loss: 0.5256 - val_accuracy: 0.7743\n",
            "Epoch 4/100\n",
            "409/409 [==============================] - 1s 2ms/step - loss: 0.5165 - accuracy: 0.7780 - val_loss: 0.5013 - val_accuracy: 0.7864\n",
            "Epoch 5/100\n",
            "409/409 [==============================] - 1s 2ms/step - loss: 0.4933 - accuracy: 0.7886 - val_loss: 0.4847 - val_accuracy: 0.7963\n",
            "Epoch 6/100\n",
            "409/409 [==============================] - 1s 2ms/step - loss: 0.4776 - accuracy: 0.7967 - val_loss: 0.4706 - val_accuracy: 0.8004\n",
            "Epoch 7/100\n",
            "409/409 [==============================] - 1s 2ms/step - loss: 0.4665 - accuracy: 0.8023 - val_loss: 0.4588 - val_accuracy: 0.8069\n",
            "Epoch 8/100\n",
            "409/409 [==============================] - 1s 2ms/step - loss: 0.4542 - accuracy: 0.8080 - val_loss: 0.4491 - val_accuracy: 0.8138\n",
            "Epoch 9/100\n",
            "409/409 [==============================] - 1s 2ms/step - loss: 0.4436 - accuracy: 0.8142 - val_loss: 0.4401 - val_accuracy: 0.8170\n",
            "Epoch 10/100\n",
            "409/409 [==============================] - 1s 2ms/step - loss: 0.4363 - accuracy: 0.8173 - val_loss: 0.4361 - val_accuracy: 0.8147\n",
            "Epoch 11/100\n",
            "409/409 [==============================] - 1s 2ms/step - loss: 0.4310 - accuracy: 0.8190 - val_loss: 0.4273 - val_accuracy: 0.8227\n",
            "Epoch 12/100\n",
            "409/409 [==============================] - 1s 2ms/step - loss: 0.4249 - accuracy: 0.8225 - val_loss: 0.4251 - val_accuracy: 0.8242\n",
            "Epoch 13/100\n",
            "409/409 [==============================] - 1s 2ms/step - loss: 0.4170 - accuracy: 0.8265 - val_loss: 0.4183 - val_accuracy: 0.8275\n",
            "Epoch 14/100\n",
            "409/409 [==============================] - 1s 2ms/step - loss: 0.4131 - accuracy: 0.8290 - val_loss: 0.4144 - val_accuracy: 0.8287\n",
            "Epoch 15/100\n",
            "409/409 [==============================] - 1s 2ms/step - loss: 0.4095 - accuracy: 0.8304 - val_loss: 0.4099 - val_accuracy: 0.8300\n",
            "Epoch 16/100\n",
            "409/409 [==============================] - 1s 2ms/step - loss: 0.4034 - accuracy: 0.8339 - val_loss: 0.4033 - val_accuracy: 0.8339\n",
            "Epoch 17/100\n",
            "409/409 [==============================] - 1s 2ms/step - loss: 0.3999 - accuracy: 0.8341 - val_loss: 0.4007 - val_accuracy: 0.8347\n",
            "Epoch 18/100\n",
            "409/409 [==============================] - 1s 2ms/step - loss: 0.3949 - accuracy: 0.8368 - val_loss: 0.3959 - val_accuracy: 0.8371\n",
            "Epoch 19/100\n",
            "409/409 [==============================] - 1s 2ms/step - loss: 0.3946 - accuracy: 0.8374 - val_loss: 0.3959 - val_accuracy: 0.8358\n",
            "Epoch 20/100\n",
            "409/409 [==============================] - 1s 2ms/step - loss: 0.3916 - accuracy: 0.8385 - val_loss: 0.3905 - val_accuracy: 0.8381\n",
            "Epoch 21/100\n",
            "409/409 [==============================] - 1s 2ms/step - loss: 0.3880 - accuracy: 0.8403 - val_loss: 0.3876 - val_accuracy: 0.8397\n",
            "Epoch 22/100\n",
            "409/409 [==============================] - 1s 2ms/step - loss: 0.3861 - accuracy: 0.8413 - val_loss: 0.3897 - val_accuracy: 0.8378\n",
            "Epoch 23/100\n",
            "409/409 [==============================] - 1s 2ms/step - loss: 0.3822 - accuracy: 0.8422 - val_loss: 0.3822 - val_accuracy: 0.8416\n",
            "Epoch 24/100\n",
            "409/409 [==============================] - 1s 2ms/step - loss: 0.3807 - accuracy: 0.8436 - val_loss: 0.3814 - val_accuracy: 0.8420\n",
            "Epoch 25/100\n",
            "409/409 [==============================] - 1s 2ms/step - loss: 0.3785 - accuracy: 0.8447 - val_loss: 0.3770 - val_accuracy: 0.8450\n",
            "Epoch 26/100\n",
            "409/409 [==============================] - 1s 2ms/step - loss: 0.3747 - accuracy: 0.8459 - val_loss: 0.3769 - val_accuracy: 0.8423\n",
            "Epoch 27/100\n",
            "409/409 [==============================] - 1s 2ms/step - loss: 0.3713 - accuracy: 0.8480 - val_loss: 0.3720 - val_accuracy: 0.8459\n",
            "Epoch 28/100\n",
            "409/409 [==============================] - 1s 2ms/step - loss: 0.3697 - accuracy: 0.8485 - val_loss: 0.3708 - val_accuracy: 0.8466\n",
            "Epoch 29/100\n",
            "409/409 [==============================] - 1s 2ms/step - loss: 0.3673 - accuracy: 0.8490 - val_loss: 0.3692 - val_accuracy: 0.8450\n",
            "Epoch 30/100\n",
            "409/409 [==============================] - 1s 2ms/step - loss: 0.3669 - accuracy: 0.8498 - val_loss: 0.3658 - val_accuracy: 0.8479\n",
            "Epoch 31/100\n",
            "409/409 [==============================] - 1s 2ms/step - loss: 0.3637 - accuracy: 0.8509 - val_loss: 0.3635 - val_accuracy: 0.8499\n",
            "Epoch 32/100\n",
            "409/409 [==============================] - 1s 2ms/step - loss: 0.3614 - accuracy: 0.8513 - val_loss: 0.3642 - val_accuracy: 0.8493\n",
            "Epoch 33/100\n",
            "409/409 [==============================] - 1s 2ms/step - loss: 0.3600 - accuracy: 0.8525 - val_loss: 0.3617 - val_accuracy: 0.8506\n",
            "Epoch 34/100\n",
            "409/409 [==============================] - 1s 2ms/step - loss: 0.3570 - accuracy: 0.8541 - val_loss: 0.3606 - val_accuracy: 0.8500\n",
            "Epoch 35/100\n",
            "409/409 [==============================] - 1s 2ms/step - loss: 0.3580 - accuracy: 0.8531 - val_loss: 0.3606 - val_accuracy: 0.8502\n",
            "Epoch 36/100\n",
            "409/409 [==============================] - 1s 2ms/step - loss: 0.3556 - accuracy: 0.8542 - val_loss: 0.3556 - val_accuracy: 0.8526\n",
            "Epoch 37/100\n",
            "409/409 [==============================] - 1s 3ms/step - loss: 0.3547 - accuracy: 0.8546 - val_loss: 0.3568 - val_accuracy: 0.8514\n",
            "Epoch 38/100\n",
            "409/409 [==============================] - 1s 2ms/step - loss: 0.3545 - accuracy: 0.8544 - val_loss: 0.3561 - val_accuracy: 0.8524\n",
            "Epoch 39/100\n",
            "409/409 [==============================] - 1s 2ms/step - loss: 0.3517 - accuracy: 0.8556 - val_loss: 0.3551 - val_accuracy: 0.8538\n",
            "Epoch 40/100\n",
            "409/409 [==============================] - 1s 2ms/step - loss: 0.3501 - accuracy: 0.8569 - val_loss: 0.3554 - val_accuracy: 0.8526\n",
            "Epoch 41/100\n",
            "409/409 [==============================] - 1s 2ms/step - loss: 0.3495 - accuracy: 0.8570 - val_loss: 0.3522 - val_accuracy: 0.8528\n",
            "Epoch 42/100\n",
            "409/409 [==============================] - 1s 2ms/step - loss: 0.3486 - accuracy: 0.8572 - val_loss: 0.3512 - val_accuracy: 0.8539\n",
            "Epoch 43/100\n",
            "409/409 [==============================] - 1s 2ms/step - loss: 0.3466 - accuracy: 0.8578 - val_loss: 0.3510 - val_accuracy: 0.8541\n",
            "Epoch 44/100\n",
            "409/409 [==============================] - 1s 2ms/step - loss: 0.3443 - accuracy: 0.8598 - val_loss: 0.3507 - val_accuracy: 0.8528\n",
            "Epoch 45/100\n",
            "409/409 [==============================] - 1s 3ms/step - loss: 0.3444 - accuracy: 0.8587 - val_loss: 0.3489 - val_accuracy: 0.8548\n",
            "Epoch 46/100\n",
            "409/409 [==============================] - 1s 2ms/step - loss: 0.3439 - accuracy: 0.8589 - val_loss: 0.3446 - val_accuracy: 0.8567\n",
            "Epoch 47/100\n",
            "409/409 [==============================] - 1s 2ms/step - loss: 0.3431 - accuracy: 0.8592 - val_loss: 0.3454 - val_accuracy: 0.8561\n",
            "Epoch 48/100\n",
            "409/409 [==============================] - 1s 2ms/step - loss: 0.3440 - accuracy: 0.8589 - val_loss: 0.3421 - val_accuracy: 0.8594\n",
            "Epoch 49/100\n",
            "409/409 [==============================] - 1s 2ms/step - loss: 0.3417 - accuracy: 0.8604 - val_loss: 0.3432 - val_accuracy: 0.8574\n",
            "Epoch 50/100\n",
            "409/409 [==============================] - 1s 2ms/step - loss: 0.3405 - accuracy: 0.8610 - val_loss: 0.3525 - val_accuracy: 0.8519\n",
            "Epoch 51/100\n",
            "409/409 [==============================] - 1s 2ms/step - loss: 0.3394 - accuracy: 0.8614 - val_loss: 0.3445 - val_accuracy: 0.8570\n"
          ],
          "name": "stdout"
        }
      ]
    },
    {
      "cell_type": "markdown",
      "metadata": {
        "id": "WNnzzucSlGkM"
      },
      "source": [
        "The model was able to reach around 34% loss and 86% accuracy."
      ]
    },
    {
      "cell_type": "markdown",
      "metadata": {
        "id": "08NopP6vlT4c"
      },
      "source": [
        "## **Evaluate Model**"
      ]
    },
    {
      "cell_type": "markdown",
      "metadata": {
        "id": "Ud74U2IwlWNY"
      },
      "source": [
        "### Plot Metrics\n",
        "Define a function that can be used to plot the accuracy and loss over epochs."
      ]
    },
    {
      "cell_type": "code",
      "metadata": {
        "id": "uGMZQMTtY6_E"
      },
      "source": [
        "def plot_history(history, param):\n",
        "  if param=='acc':\n",
        "    plt.plot(history.history['accuracy'])\n",
        "    plt.plot(history.history['val_accuracy'])\n",
        "    plt.title('model accuracy')\n",
        "    plt.ylabel('accuracy')\n",
        "    plt.xlabel('epoch')\n",
        "    plt.legend(['train', 'val'], loc='upper left')\n",
        "    plt.show()\n",
        "  elif param=='loss':\n",
        "    plt.plot(history.history['loss'])\n",
        "    plt.plot(history.history['val_loss'])\n",
        "    plt.title('model loss')\n",
        "    plt.ylabel('loss')\n",
        "    plt.xlabel('epoch')\n",
        "    plt.legend(['train', 'val'], loc='upper left')\n",
        "    plt.show()"
      ],
      "execution_count": null,
      "outputs": []
    },
    {
      "cell_type": "code",
      "metadata": {
        "colab": {
          "base_uri": "https://localhost:8080/",
          "height": 573
        },
        "id": "JpgD2a5VZsgl",
        "outputId": "a303ad75-22a3-4f5d-841d-377098f86a3a"
      },
      "source": [
        "plot_history(history, 'acc')\n",
        "plot_history(history, 'loss')"
      ],
      "execution_count": null,
      "outputs": [
        {
          "output_type": "display_data",
          "data": {
            "image/png": "[encoded data removed]",
            "text/plain": [
              "<Figure size 432x288 with 1 Axes>"
            ]
          },
          "metadata": {
            "tags": [],
            "needs_background": "light"
          }
        },
        {
          "output_type": "display_data",
          "data": {
            "image/png": "[encoded data removed]",
            "text/plain": [
              "<Figure size 432x288 with 1 Axes>"
            ]
          },
          "metadata": {
            "tags": [],
            "needs_background": "light"
          }
        }
      ]
    },
    {
      "cell_type": "markdown",
      "metadata": {
        "id": "p2XoDF9OlcBJ"
      },
      "source": [
        "* **Accuracy**: probability that the model assigns the highest probability to the correct class (1 is best).\n",
        "* **Loss**: how off the prediction was from the actual class (0 is best)."
      ]
    },
    {
      "cell_type": "markdown",
      "metadata": {
        "id": "SyzhlcXdl5cJ"
      },
      "source": [
        "### Evaluate on Validation Data"
      ]
    },
    {
      "cell_type": "code",
      "metadata": {
        "colab": {
          "base_uri": "https://localhost:8080/"
        },
        "id": "uAhjYRzpZ7Uk",
        "outputId": "dc46a4e7-b139-4224-9b2e-cfb6f114668e"
      },
      "source": [
        "score = model.evaluate(features_test_scaled, label_test, verbose=0)\n",
        "print(f'Test loss: {score[0]}')\n",
        "print(f'Test accuracy: {score[1]}')"
      ],
      "execution_count": null,
      "outputs": [
        {
          "output_type": "stream",
          "text": [
            "Test loss: 0.34878137707710266\n",
            "Test accuracy: 0.8565613627433777\n"
          ],
          "name": "stdout"
        }
      ]
    },
    {
      "cell_type": "markdown",
      "metadata": {
        "id": "QIP-YWGimRXD"
      },
      "source": [
        "### Classification Report\n",
        "1. Predict classes for the test cases and convert the predictions to discrete values. \n",
        "2. Use the **classification report** to calculate additional evaluation statistics."
      ]
    },
    {
      "cell_type": "code",
      "metadata": {
        "colab": {
          "base_uri": "https://localhost:8080/"
        },
        "id": "QbKHdCs7dpZQ",
        "outputId": "3d202e3c-1958-46a1-b41f-415c33697003"
      },
      "source": [
        "y_pred = model.predict(features_test_scaled)\n",
        "\n",
        "y_pred = np.argmax(y_pred, axis=1)\n",
        "class_names = ['Spruce/Fir', 'Lodgepole Pine',\n",
        "                   'Ponderosa Pine', 'Cottonwood/Willow',\n",
        "                   'Aspen', 'Douglas-fir', 'Krummholz']\n",
        "print(classification_report(label_test, y_pred, target_names=class_names))"
      ],
      "execution_count": null,
      "outputs": [
        {
          "output_type": "stream",
          "text": [
            "                   precision    recall  f1-score   support\n",
            "\n",
            "       Spruce/Fir       0.84      0.87      0.86     42368\n",
            "   Lodgepole Pine       0.88      0.87      0.88     56661\n",
            "   Ponderosa Pine       0.84      0.83      0.84      7151\n",
            "Cottonwood/Willow       0.80      0.70      0.75       549\n",
            "            Aspen       0.75      0.49      0.60      1899\n",
            "      Douglas-fir       0.66      0.72      0.69      3473\n",
            "        Krummholz       0.89      0.83      0.86      4102\n",
            "\n",
            "         accuracy                           0.86    116203\n",
            "        macro avg       0.81      0.76      0.78    116203\n",
            "     weighted avg       0.86      0.86      0.86    116203\n",
            "\n"
          ],
          "name": "stdout"
        }
      ]
    },
    {
      "cell_type": "markdown",
      "metadata": {
        "id": "W8ldh5uImQZD"
      },
      "source": [
        "* **Precision**: proportion of positive identifications of the class that were actually correct.\n",
        "* **Recall**: proportion of actual positives of the class that were identified correctly.\n",
        "* **F1 score**: weighted average of precision and recall."
      ]
    },
    {
      "cell_type": "markdown",
      "metadata": {
        "id": "m_EZRYQ6muU2"
      },
      "source": [
        "### Confusion Matrix"
      ]
    },
    {
      "cell_type": "markdown",
      "metadata": {
        "id": "XnynT_BEm0Jb"
      },
      "source": [
        "Define a function to calculate a **confusion matrix** and plot a **heatmap** based on the matrix to further evaluate performance of model.\n",
        "\n",
        "In a confusion matrix, the **boxes along the diagonal** spanning from the top left to bottom right corners are cases that have been classified correctly. \n",
        "\n",
        "Each box (i,j) is equal to the number of observations known to be in group i and predicted to be in group j."
      ]
    },
    {
      "cell_type": "code",
      "metadata": {
        "id": "qxipKV3IeJ52"
      },
      "source": [
        "def plot_heatmap(class_names, y_pred, y_test):\n",
        "  cm = confusion_matrix(y_test, y_pred)\n",
        "  fig, ax = plt.subplots(figsize=(15, 15))\n",
        "  heatmap = sns.heatmap(cm, fmt='g', cmap='Blues', annot=True, ax=ax)\n",
        "  ax.set_xlabel('predicted class')\n",
        "  ax.set_ylabel('True class')\n",
        "  ax.set_title('Confusion matrix')\n",
        "  ax.xaxis.set_ticklabels(class_names)\n",
        "  ax.yaxis.set_ticklabels(class_names)\n",
        "\n",
        "  heatmapfig = heatmap.get_figure()"
      ],
      "execution_count": null,
      "outputs": []
    },
    {
      "cell_type": "code",
      "metadata": {
        "colab": {
          "base_uri": "https://localhost:8080/",
          "height": 893
        },
        "id": "jzpHhlNCe5VA",
        "outputId": "8be65197-7bbe-4dbd-cbbe-1026c9cc7825"
      },
      "source": [
        "plot_heatmap(class_names, y_pred, label_test)"
      ],
      "execution_count": null,
      "outputs": [
        {
          "output_type": "display_data",
          "data": {
            "image/png": "[encoded data removed]",
            "text/plain": [
              "<Figure size 1080x1080 with 2 Axes>"
            ]
          },
          "metadata": {
            "tags": [],
            "needs_background": "light"
          }
        }
      ]
    },
    {
      "cell_type": "markdown",
      "metadata": {
        "id": "rZDfOXHliMCq"
      },
      "source": [
        "## **Conclusion** \n",
        "\n",
        "From the heatmap, it is evident that Spruce/Fir, Lodgepole Pine, Ponderosa Pine, Douglas-fir, and Krummholz have, for the most part, been classified correctly.\n",
        "\n",
        "On the other hand Cottonwood Willow and Aspen suffer from a high percentage of mis-classifications. There are many possible causes for this, and some potential aspects to consider include the following:\n",
        "\n",
        "1. Imbalances in the proportion of observations for each cover-type present in the original dataset.\n",
        "2. The distribution of each wilderness area.\n",
        "3. Some independent variables included in the dataset that are not cartographic in nature could be removed (such as proximity to roads).\n",
        "5. Other performance metrics apart from accuracy could be used. Accuracy is more unreliable when data in imbalanced.\n",
        "\n",
        "The most important thing to understand here is that in deep-learning, the gradient(s) of the majority class(es) dominate(s) and will influence the weight-updates. There are also some advanced techniques that will ameliorate this situation."
      ]
    }
  ]
}