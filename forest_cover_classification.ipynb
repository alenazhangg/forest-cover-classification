{
  "nbformat": 4,
  "nbformat_minor": 0,
  "metadata": {
    "colab": {
      "name": "forest_cover_classification.ipynb",
      "provenance": [],
      "collapsed_sections": [],
      "authorship_tag": "ABX9TyM1onBWdYJv1y2j0sLZuPeM",
      "include_colab_link": true
    },
    "kernelspec": {
      "name": "python3",
      "display_name": "Python 3"
    },
    "accelerator": "GPU"
  },
  "cells": [
    {
      "cell_type": "markdown",
      "metadata": {
        "id": "view-in-github",
        "colab_type": "text"
      },
      "source": [
        "<a href=\"https://colab.research.google.com/github/alenazhangg/forest-cover-classification/blob/main/forest_cover_classification.ipynb\" target=\"_parent\"><img src=\"https://colab.research.google.com/assets/colab-badge.svg\" alt=\"Open In Colab\"/></a>"
      ]
    },
    {
      "cell_type": "markdown",
      "metadata": {
        "id": "9gnJtDI7fpgP"
      },
      "source": [
        "# **Forest Cover Classification**"
      ]
    },
    {
      "cell_type": "markdown",
      "metadata": {
        "id": "27wL2RCKiOCp"
      },
      "source": [
        "In this project, I will be predicting **forest cover type** based on various **cartographic variables**. \n",
        "\n",
        "\n",
        "The possible forest cover types are:\n",
        "\n",
        "*  Spruce/fir\n",
        "*  Lodgepole pine\n",
        "*  Ponderosa pine\n",
        "*  Cottonwood/willow\n",
        "*  Aspen,\n",
        "*  Douglas-fir \n",
        "*  Krummholz\n",
        "\n",
        "\n",
        "The data I will be using contains **581,012 observations** of 30x30 meter cells taken in 4 wilderness areas located in **Roosevelt National Forest**. \n",
        "\n",
        "Each observation has **55 columns**, 54 of which are various variables (ex: soil type, elevation) derived from data collected by the US Geological Survey and USFS. The remaining column specifies the classification of the forest cover type for the observation, determined by the US Forest Service.\n"
      ]
    },
    {
      "cell_type": "markdown",
      "metadata": {
        "id": "oiEq9CrwjuyE"
      },
      "source": [
        "## **Imports**\n",
        "The .csv file is contained in my Google Drive."
      ]
    },
    {
      "cell_type": "code",
      "metadata": {
        "colab": {
          "base_uri": "https://localhost:8080/"
        },
        "id": "g0GFlf2kT6Wa",
        "outputId": "dec198ed-c6bd-49e1-ad4b-2534dd7cad08"
      },
      "source": [
        "import pandas as pd\n",
        "import numpy as np\n",
        "\n",
        "import matplotlib.pyplot as plt\n",
        "import seaborn as sns\n",
        "\n",
        "from sklearn.model_selection import train_test_split\n",
        "from sklearn.preprocessing import StandardScaler\n",
        "from tensorflow.keras.models import Sequential\n",
        "from tensorflow.keras.layers import InputLayer\n",
        "from tensorflow.keras.layers import Dropout\n",
        "from tensorflow.keras.layers import Dense\n",
        "from tensorflow.keras.optimizers import Adam\n",
        "from tensorflow.keras.callbacks import EarlyStopping\n",
        "\n",
        "from sklearn.metrics import confusion_matrix\n",
        "from sklearn.metrics import classification_report\n",
        "\n",
        "from google.colab import drive\n",
        "drive.mount('/content/drive')\n",
        "print('modules imported')"
      ],
      "execution_count": 1,
      "outputs": [
        {
          "output_type": "stream",
          "text": [
            "Mounted at /content/drive\n",
            "modules imported\n"
          ],
          "name": "stdout"
        }
      ]
    },
    {
      "cell_type": "markdown",
      "metadata": {
        "id": "lqMJ9Aqbis9j"
      },
      "source": [
        "## **Load and Prepare Data**"
      ]
    },
    {
      "cell_type": "markdown",
      "metadata": {
        "id": "JbhSeyUpj3lo"
      },
      "source": [
        "Load the .csv file into a dataframe. \n",
        "\n",
        "The file contains binary columns of data for qualitative independent variables such as wilderness areas and soil type."
      ]
    },
    {
      "cell_type": "code",
      "metadata": {
        "colab": {
          "base_uri": "https://localhost:8080/"
        },
        "id": "UDqXGzogUOUT",
        "outputId": "98137cfb-badd-401e-fb60-625f28c121c9"
      },
      "source": [
        "raw = pd.read_csv('drive/MyDrive/Colab Notebooks/Forest_Cover_Classification/cover_data.csv')\n",
        "print(f'Data: \\n{raw.head()}')\n",
        "\n",
        "#Obtain the column labels for the features and class\n",
        "cols = raw.columns.tolist()\n",
        "features = cols[:-1]\n",
        "label = cols[-1]\n",
        "print(f'Features: \\n{features}')\n",
        "print(f'Label: \\n{label}')\n",
        "\n",
        "#Split raw data into the class and independent variables\n",
        "raw_data = raw.values\n",
        "X = raw_data[:, :-1]\n",
        "y = raw_data[:, -1]"
      ],
      "execution_count": 3,
      "outputs": [
        {
          "output_type": "stream",
          "text": [
            "Data: \n",
            "   Elevation  Aspect  Slope  ...  Soil_Type39  Soil_Type40  class\n",
            "0       2596      51      3  ...            0            0      5\n",
            "1       2590      56      2  ...            0            0      5\n",
            "2       2804     139      9  ...            0            0      2\n",
            "3       2785     155     18  ...            0            0      2\n",
            "4       2595      45      2  ...            0            0      5\n",
            "\n",
            "[5 rows x 55 columns]\n",
            "Features: \n",
            "['Elevation', 'Aspect', 'Slope', 'Horizontal_Distance_To_Hydrology', 'Vertical_Distance_To_Hydrology', 'Horizontal_Distance_To_Roadways', 'Hillshade_9am', 'Hillshade_Noon', 'Hillshade_3pm', 'Horizontal_Distance_To_Fire_Points', 'Wilderness_Area1', 'Wilderness_Area2', 'Wilderness_Area3', 'Wilderness_Area4', 'Soil_Type1', 'Soil_Type2', 'Soil_Type3', 'Soil_Type4', 'Soil_Type5', 'Soil_Type6', 'Soil_Type7', 'Soil_Type8', 'Soil_Type9', 'Soil_Type10', 'Soil_Type11', 'Soil_Type12', 'Soil_Type13', 'Soil_Type14', 'Soil_Type15', 'Soil_Type16', 'Soil_Type17', 'Soil_Type18', 'Soil_Type19', 'Soil_Type20', 'Soil_Type21', 'Soil_Type22', 'Soil_Type23', 'Soil_Type24', 'Soil_Type25', 'Soil_Type26', 'Soil_Type27', 'Soil_Type28', 'Soil_Type29', 'Soil_Type30', 'Soil_Type31', 'Soil_Type32', 'Soil_Type33', 'Soil_Type34', 'Soil_Type35', 'Soil_Type36', 'Soil_Type37', 'Soil_Type38', 'Soil_Type39', 'Soil_Type40']\n",
            "Label: \n",
            "class\n"
          ],
          "name": "stdout"
        }
      ]
    },
    {
      "cell_type": "markdown",
      "metadata": {
        "id": "FFMEKiDTcAaH"
      },
      "source": [
        "Split the data into a training and testing data set (20% of data is reserved for testing)."
      ]
    },
    {
      "cell_type": "code",
      "metadata": {
        "id": "nnCaCwA3WFvT"
      },
      "source": [
        "features_train, features_test, label_train, label_test = train_test_split(\n",
        "    X, \n",
        "    y,\n",
        "    test_size=0.2, \n",
        "    random_state=42,\n",
        "    stratify=y\n",
        ")"
      ],
      "execution_count": 4,
      "outputs": []
    },
    {
      "cell_type": "markdown",
      "metadata": {
        "id": "ys9jl2izk2ey"
      },
      "source": [
        "Scale the numerical data with a **StandardScaler**, which rescales data to have a zero mean and unit variance."
      ]
    },
    {
      "cell_type": "code",
      "metadata": {
        "id": "MUTrsxFUWXO7"
      },
      "source": [
        "scaler = StandardScaler()\n",
        "features_train = scaler.fit_transform(features_train)\n",
        "features_test = scaler.transform(features_test)"
      ],
      "execution_count": 5,
      "outputs": []
    },
    {
      "cell_type": "markdown",
      "metadata": {
        "id": "28KQorz9kffz"
      },
      "source": [
        "## **Build and Compile Model**"
      ]
    },
    {
      "cell_type": "markdown",
      "metadata": {
        "id": "WDJ5tpx4k7rC"
      },
      "source": [
        "Design the model architecture by adding an **input layer**, **hidden layers**, and an **output layer**."
      ]
    },
    {
      "cell_type": "code",
      "metadata": {
        "colab": {
          "base_uri": "https://localhost:8080/"
        },
        "id": "GrJYAd8yWvVZ",
        "outputId": "17821bc5-e8c2-4948-e9d4-b1f695f17ec4"
      },
      "source": [
        "model = Sequential()\n",
        "\n",
        "#Input layer\n",
        "model.add(Dense(64, input_dim=len(features), activation='relu'))\n",
        "\n",
        "#Hidden layers\n",
        "#model.add(Dropout(0.3))\n",
        "model.add(Dense(32, activation='relu'))\n",
        "model.add(Dense(16, activation='relu'))\n",
        "#model.add(Dropout(0.3))\n",
        "\n",
        "#Output layer with 8 potential outputs for the 8 forest cover types\n",
        "model.add(Dense(8, activation='softmax'))\n",
        "model.compile(\n",
        "    loss=\"sparse_categorical_crossentropy\",\n",
        "    metrics=[\"accuracy\"],\n",
        "    optimizer='adam'\n",
        ")\n",
        "model.summary()"
      ],
      "execution_count": 10,
      "outputs": [
        {
          "output_type": "stream",
          "text": [
            "Model: \"sequential_2\"\n",
            "_________________________________________________________________\n",
            "Layer (type)                 Output Shape              Param #   \n",
            "=================================================================\n",
            "dense_8 (Dense)              (None, 64)                3520      \n",
            "_________________________________________________________________\n",
            "dense_9 (Dense)              (None, 32)                2080      \n",
            "_________________________________________________________________\n",
            "dense_10 (Dense)             (None, 16)                528       \n",
            "_________________________________________________________________\n",
            "dense_11 (Dense)             (None, 8)                 136       \n",
            "=================================================================\n",
            "Total params: 6,264\n",
            "Trainable params: 6,264\n",
            "Non-trainable params: 0\n",
            "_________________________________________________________________\n"
          ],
          "name": "stdout"
        }
      ]
    },
    {
      "cell_type": "markdown",
      "metadata": {
        "id": "OdtGi07pk87f"
      },
      "source": [
        "## **Train Model**"
      ]
    },
    {
      "cell_type": "markdown",
      "metadata": {
        "id": "bebva1nplCum"
      },
      "source": [
        "1. Add an **EarlyStopping** object to avoid overfitting the data. \n",
        "2. Train the deep learning model on the training dataset."
      ]
    },
    {
      "cell_type": "code",
      "metadata": {
        "colab": {
          "base_uri": "https://localhost:8080/"
        },
        "id": "khBDUY8jYKWm",
        "outputId": "1d2f2f8d-2481-4408-9491-691ccc27ca67"
      },
      "source": [
        "callback = EarlyStopping(\n",
        "    monitor='val_accuracy',\n",
        "    min_delta=0.0001,\n",
        "    patience=10\n",
        ")\n",
        "\n",
        "history=model.fit(\n",
        "    features_train,\n",
        "    label_train,\n",
        "    epochs=100,\n",
        "    batch_size=628,\n",
        "    callbacks=[callback],\n",
        "    validation_split = 0.1,\n",
        "    verbose=1\n",
        ")"
      ],
      "execution_count": 11,
      "outputs": [
        {
          "output_type": "stream",
          "text": [
            "Epoch 1/100\n",
            "667/667 [==============================] - 2s 3ms/step - loss: 0.9822 - accuracy: 0.6156 - val_loss: 0.5707 - val_accuracy: 0.7576\n",
            "Epoch 2/100\n",
            "667/667 [==============================] - 2s 2ms/step - loss: 0.5576 - accuracy: 0.7618 - val_loss: 0.5239 - val_accuracy: 0.7746\n",
            "Epoch 3/100\n",
            "667/667 [==============================] - 2s 2ms/step - loss: 0.5101 - accuracy: 0.7811 - val_loss: 0.4874 - val_accuracy: 0.7932\n",
            "Epoch 4/100\n",
            "667/667 [==============================] - 2s 3ms/step - loss: 0.4789 - accuracy: 0.7975 - val_loss: 0.4650 - val_accuracy: 0.8048\n",
            "Epoch 5/100\n",
            "667/667 [==============================] - 2s 2ms/step - loss: 0.4592 - accuracy: 0.8062 - val_loss: 0.4550 - val_accuracy: 0.8070\n",
            "Epoch 6/100\n",
            "667/667 [==============================] - 2s 3ms/step - loss: 0.4441 - accuracy: 0.8121 - val_loss: 0.4406 - val_accuracy: 0.8140\n",
            "Epoch 7/100\n",
            "667/667 [==============================] - 2s 2ms/step - loss: 0.4316 - accuracy: 0.8183 - val_loss: 0.4297 - val_accuracy: 0.8200\n",
            "Epoch 8/100\n",
            "667/667 [==============================] - 2s 3ms/step - loss: 0.4212 - accuracy: 0.8234 - val_loss: 0.4262 - val_accuracy: 0.8229\n",
            "Epoch 9/100\n",
            "667/667 [==============================] - 2s 3ms/step - loss: 0.4145 - accuracy: 0.8268 - val_loss: 0.4150 - val_accuracy: 0.8283\n",
            "Epoch 10/100\n",
            "667/667 [==============================] - 2s 2ms/step - loss: 0.4065 - accuracy: 0.8316 - val_loss: 0.4032 - val_accuracy: 0.8327\n",
            "Epoch 11/100\n",
            "667/667 [==============================] - 2s 2ms/step - loss: 0.4009 - accuracy: 0.8334 - val_loss: 0.3999 - val_accuracy: 0.8331\n",
            "Epoch 12/100\n",
            "667/667 [==============================] - 2s 2ms/step - loss: 0.3969 - accuracy: 0.8347 - val_loss: 0.3954 - val_accuracy: 0.8370\n",
            "Epoch 13/100\n",
            "667/667 [==============================] - 2s 3ms/step - loss: 0.3894 - accuracy: 0.8392 - val_loss: 0.3888 - val_accuracy: 0.8396\n",
            "Epoch 14/100\n",
            "667/667 [==============================] - 2s 2ms/step - loss: 0.3868 - accuracy: 0.8398 - val_loss: 0.3861 - val_accuracy: 0.8417\n",
            "Epoch 15/100\n",
            "667/667 [==============================] - 2s 2ms/step - loss: 0.3797 - accuracy: 0.8430 - val_loss: 0.3803 - val_accuracy: 0.8428\n",
            "Epoch 16/100\n",
            "667/667 [==============================] - 2s 2ms/step - loss: 0.3765 - accuracy: 0.8456 - val_loss: 0.3792 - val_accuracy: 0.8446\n",
            "Epoch 17/100\n",
            "667/667 [==============================] - 2s 2ms/step - loss: 0.3722 - accuracy: 0.8466 - val_loss: 0.3805 - val_accuracy: 0.8435\n",
            "Epoch 18/100\n",
            "667/667 [==============================] - 2s 2ms/step - loss: 0.3696 - accuracy: 0.8477 - val_loss: 0.3702 - val_accuracy: 0.8498\n",
            "Epoch 19/100\n",
            "667/667 [==============================] - 2s 2ms/step - loss: 0.3655 - accuracy: 0.8496 - val_loss: 0.3668 - val_accuracy: 0.8500\n",
            "Epoch 20/100\n",
            "667/667 [==============================] - 2s 2ms/step - loss: 0.3621 - accuracy: 0.8517 - val_loss: 0.3653 - val_accuracy: 0.8516\n",
            "Epoch 21/100\n",
            "667/667 [==============================] - 2s 2ms/step - loss: 0.3596 - accuracy: 0.8533 - val_loss: 0.3577 - val_accuracy: 0.8534\n",
            "Epoch 22/100\n",
            "667/667 [==============================] - 2s 2ms/step - loss: 0.3549 - accuracy: 0.8554 - val_loss: 0.3609 - val_accuracy: 0.8493\n",
            "Epoch 23/100\n",
            "667/667 [==============================] - 2s 2ms/step - loss: 0.3538 - accuracy: 0.8560 - val_loss: 0.3564 - val_accuracy: 0.8551\n",
            "Epoch 24/100\n",
            "667/667 [==============================] - 2s 2ms/step - loss: 0.3510 - accuracy: 0.8567 - val_loss: 0.3538 - val_accuracy: 0.8554\n",
            "Epoch 25/100\n",
            "667/667 [==============================] - 2s 2ms/step - loss: 0.3498 - accuracy: 0.8574 - val_loss: 0.3572 - val_accuracy: 0.8543\n",
            "Epoch 26/100\n",
            "667/667 [==============================] - 2s 2ms/step - loss: 0.3476 - accuracy: 0.8580 - val_loss: 0.3656 - val_accuracy: 0.8492\n",
            "Epoch 27/100\n",
            "667/667 [==============================] - 2s 2ms/step - loss: 0.3440 - accuracy: 0.8604 - val_loss: 0.3543 - val_accuracy: 0.8545\n",
            "Epoch 28/100\n",
            "667/667 [==============================] - 2s 3ms/step - loss: 0.3430 - accuracy: 0.8598 - val_loss: 0.3482 - val_accuracy: 0.8580\n",
            "Epoch 29/100\n",
            "667/667 [==============================] - 2s 2ms/step - loss: 0.3408 - accuracy: 0.8610 - val_loss: 0.3431 - val_accuracy: 0.8602\n",
            "Epoch 30/100\n",
            "667/667 [==============================] - 2s 3ms/step - loss: 0.3386 - accuracy: 0.8627 - val_loss: 0.3404 - val_accuracy: 0.8609\n",
            "Epoch 31/100\n",
            "667/667 [==============================] - 2s 2ms/step - loss: 0.3350 - accuracy: 0.8638 - val_loss: 0.3524 - val_accuracy: 0.8527\n",
            "Epoch 32/100\n",
            "667/667 [==============================] - 2s 2ms/step - loss: 0.3346 - accuracy: 0.8641 - val_loss: 0.3397 - val_accuracy: 0.8625\n",
            "Epoch 33/100\n",
            "667/667 [==============================] - 2s 3ms/step - loss: 0.3350 - accuracy: 0.8633 - val_loss: 0.3390 - val_accuracy: 0.8611\n",
            "Epoch 34/100\n",
            "667/667 [==============================] - 2s 2ms/step - loss: 0.3322 - accuracy: 0.8645 - val_loss: 0.3370 - val_accuracy: 0.8623\n",
            "Epoch 35/100\n",
            "667/667 [==============================] - 2s 2ms/step - loss: 0.3310 - accuracy: 0.8655 - val_loss: 0.3319 - val_accuracy: 0.8660\n",
            "Epoch 36/100\n",
            "667/667 [==============================] - 2s 2ms/step - loss: 0.3287 - accuracy: 0.8667 - val_loss: 0.3371 - val_accuracy: 0.8623\n",
            "Epoch 37/100\n",
            "667/667 [==============================] - 2s 2ms/step - loss: 0.3284 - accuracy: 0.8663 - val_loss: 0.3313 - val_accuracy: 0.8637\n",
            "Epoch 38/100\n",
            "667/667 [==============================] - 2s 2ms/step - loss: 0.3271 - accuracy: 0.8666 - val_loss: 0.3311 - val_accuracy: 0.8667\n",
            "Epoch 39/100\n",
            "667/667 [==============================] - 2s 2ms/step - loss: 0.3255 - accuracy: 0.8682 - val_loss: 0.3289 - val_accuracy: 0.8670\n",
            "Epoch 40/100\n",
            "667/667 [==============================] - 2s 2ms/step - loss: 0.3222 - accuracy: 0.8696 - val_loss: 0.3312 - val_accuracy: 0.8647\n",
            "Epoch 41/100\n",
            "667/667 [==============================] - 2s 3ms/step - loss: 0.3217 - accuracy: 0.8685 - val_loss: 0.3285 - val_accuracy: 0.8676\n",
            "Epoch 42/100\n",
            "667/667 [==============================] - 2s 2ms/step - loss: 0.3239 - accuracy: 0.8685 - val_loss: 0.3289 - val_accuracy: 0.8653\n",
            "Epoch 43/100\n",
            "667/667 [==============================] - 2s 2ms/step - loss: 0.3189 - accuracy: 0.8708 - val_loss: 0.3260 - val_accuracy: 0.8691\n",
            "Epoch 44/100\n",
            "667/667 [==============================] - 2s 2ms/step - loss: 0.3207 - accuracy: 0.8696 - val_loss: 0.3254 - val_accuracy: 0.8673\n",
            "Epoch 45/100\n",
            "667/667 [==============================] - 2s 2ms/step - loss: 0.3190 - accuracy: 0.8705 - val_loss: 0.3223 - val_accuracy: 0.8696\n",
            "Epoch 46/100\n",
            "667/667 [==============================] - 2s 2ms/step - loss: 0.3191 - accuracy: 0.8707 - val_loss: 0.3224 - val_accuracy: 0.8682\n",
            "Epoch 47/100\n",
            "667/667 [==============================] - 2s 3ms/step - loss: 0.3176 - accuracy: 0.8699 - val_loss: 0.3249 - val_accuracy: 0.8685\n",
            "Epoch 48/100\n",
            "667/667 [==============================] - 2s 3ms/step - loss: 0.3143 - accuracy: 0.8730 - val_loss: 0.3227 - val_accuracy: 0.8675\n",
            "Epoch 49/100\n",
            "667/667 [==============================] - 2s 2ms/step - loss: 0.3144 - accuracy: 0.8718 - val_loss: 0.3213 - val_accuracy: 0.8705\n",
            "Epoch 50/100\n",
            "667/667 [==============================] - 2s 3ms/step - loss: 0.3134 - accuracy: 0.8726 - val_loss: 0.3175 - val_accuracy: 0.8722\n",
            "Epoch 51/100\n",
            "667/667 [==============================] - 2s 2ms/step - loss: 0.3142 - accuracy: 0.8719 - val_loss: 0.3241 - val_accuracy: 0.8676\n",
            "Epoch 52/100\n",
            "667/667 [==============================] - 2s 2ms/step - loss: 0.3119 - accuracy: 0.8735 - val_loss: 0.3167 - val_accuracy: 0.8707\n",
            "Epoch 53/100\n",
            "667/667 [==============================] - 2s 2ms/step - loss: 0.3121 - accuracy: 0.8731 - val_loss: 0.3168 - val_accuracy: 0.8718\n",
            "Epoch 54/100\n",
            "667/667 [==============================] - 2s 2ms/step - loss: 0.3124 - accuracy: 0.8734 - val_loss: 0.3198 - val_accuracy: 0.8683\n",
            "Epoch 55/100\n",
            "667/667 [==============================] - 2s 3ms/step - loss: 0.3098 - accuracy: 0.8737 - val_loss: 0.3169 - val_accuracy: 0.8717\n",
            "Epoch 56/100\n",
            "667/667 [==============================] - 2s 3ms/step - loss: 0.3123 - accuracy: 0.8721 - val_loss: 0.3143 - val_accuracy: 0.8726\n",
            "Epoch 57/100\n",
            "667/667 [==============================] - 2s 3ms/step - loss: 0.3081 - accuracy: 0.8753 - val_loss: 0.3134 - val_accuracy: 0.8730\n",
            "Epoch 58/100\n",
            "667/667 [==============================] - 2s 2ms/step - loss: 0.3090 - accuracy: 0.8743 - val_loss: 0.3123 - val_accuracy: 0.8747\n",
            "Epoch 59/100\n",
            "667/667 [==============================] - 2s 2ms/step - loss: 0.3082 - accuracy: 0.8744 - val_loss: 0.3220 - val_accuracy: 0.8701\n",
            "Epoch 60/100\n",
            "667/667 [==============================] - 2s 3ms/step - loss: 0.3092 - accuracy: 0.8746 - val_loss: 0.3118 - val_accuracy: 0.8730\n",
            "Epoch 61/100\n",
            "667/667 [==============================] - 2s 2ms/step - loss: 0.3052 - accuracy: 0.8762 - val_loss: 0.3134 - val_accuracy: 0.8736\n",
            "Epoch 62/100\n",
            "667/667 [==============================] - 2s 2ms/step - loss: 0.3057 - accuracy: 0.8756 - val_loss: 0.3231 - val_accuracy: 0.8671\n",
            "Epoch 63/100\n",
            "667/667 [==============================] - 2s 2ms/step - loss: 0.3043 - accuracy: 0.8765 - val_loss: 0.3107 - val_accuracy: 0.8741\n",
            "Epoch 64/100\n",
            "667/667 [==============================] - 2s 2ms/step - loss: 0.3059 - accuracy: 0.8761 - val_loss: 0.3492 - val_accuracy: 0.8570\n",
            "Epoch 65/100\n",
            "667/667 [==============================] - 2s 2ms/step - loss: 0.3072 - accuracy: 0.8752 - val_loss: 0.3132 - val_accuracy: 0.8747\n",
            "Epoch 66/100\n",
            "667/667 [==============================] - 2s 2ms/step - loss: 0.3036 - accuracy: 0.8763 - val_loss: 0.3109 - val_accuracy: 0.8736\n",
            "Epoch 67/100\n",
            "667/667 [==============================] - 2s 2ms/step - loss: 0.3030 - accuracy: 0.8762 - val_loss: 0.3126 - val_accuracy: 0.8726\n",
            "Epoch 68/100\n",
            "667/667 [==============================] - 2s 2ms/step - loss: 0.3031 - accuracy: 0.8769 - val_loss: 0.3074 - val_accuracy: 0.8740\n"
          ],
          "name": "stdout"
        }
      ]
    },
    {
      "cell_type": "markdown",
      "metadata": {
        "id": "WNnzzucSlGkM"
      },
      "source": [
        "The model was able to reach around 30% loss and 88% accuracy.\n",
        "\n",
        "\n"
      ]
    },
    {
      "cell_type": "markdown",
      "metadata": {
        "id": "08NopP6vlT4c"
      },
      "source": [
        "## **Evaluate Model**"
      ]
    },
    {
      "cell_type": "markdown",
      "metadata": {
        "id": "Ud74U2IwlWNY"
      },
      "source": [
        "### Plot Metrics\n",
        "Define a function that can be used to plot the accuracy and loss over epochs."
      ]
    },
    {
      "cell_type": "code",
      "metadata": {
        "id": "uGMZQMTtY6_E"
      },
      "source": [
        "def plot_history(history, param):\n",
        "  if param=='acc':\n",
        "    plt.plot(history.history['accuracy'])\n",
        "    plt.plot(history.history['val_accuracy'])\n",
        "    plt.title('model accuracy')\n",
        "    plt.ylabel('accuracy')\n",
        "    plt.xlabel('epoch')\n",
        "    plt.legend(['train', 'val'], loc='upper left')\n",
        "    plt.show()\n",
        "  elif param=='loss':\n",
        "    plt.plot(history.history['loss'])\n",
        "    plt.plot(history.history['val_loss'])\n",
        "    plt.title('model loss')\n",
        "    plt.ylabel('loss')\n",
        "    plt.xlabel('epoch')\n",
        "    plt.legend(['train', 'val'], loc='upper left')\n",
        "    plt.show()"
      ],
      "execution_count": 12,
      "outputs": []
    },
    {
      "cell_type": "code",
      "metadata": {
        "colab": {
          "base_uri": "https://localhost:8080/",
          "height": 573
        },
        "id": "JpgD2a5VZsgl",
        "outputId": "64e017a4-31f3-459c-e360-71099043998d"
      },
      "source": [
        "plot_history(history, 'acc')\n",
        "plot_history(history, 'loss')"
      ],
      "execution_count": 13,
      "outputs": [
        {
          "output_type": "display_data",
          "data": {
            "image/png": "[encoded data removed]",
            "text/plain": [
              "<Figure size 432x288 with 1 Axes>"
            ]
          },
          "metadata": {
            "tags": [],
            "needs_background": "light"
          }
        },
        {
          "output_type": "display_data",
          "data": {
            "image/png": "[encoded data removed]",
            "text/plain": [
              "<Figure size 432x288 with 1 Axes>"
            ]
          },
          "metadata": {
            "tags": [],
            "needs_background": "light"
          }
        }
      ]
    },
    {
      "cell_type": "markdown",
      "metadata": {
        "id": "p2XoDF9OlcBJ"
      },
      "source": [
        "* **Accuracy**: probability that the model assigns the highest probability to the correct class (1 is best).\n",
        "* **Loss**: how off the prediction was from the actual class (0 is best)."
      ]
    },
    {
      "cell_type": "markdown",
      "metadata": {
        "id": "SyzhlcXdl5cJ"
      },
      "source": [
        "### Evaluate on Validation Data"
      ]
    },
    {
      "cell_type": "code",
      "metadata": {
        "colab": {
          "base_uri": "https://localhost:8080/"
        },
        "id": "uAhjYRzpZ7Uk",
        "outputId": "5d644078-f267-4944-9a17-54cd435704a4"
      },
      "source": [
        "score = model.evaluate(features_test, label_test, verbose=0)\n",
        "print(f'Test loss: {score[0]}')\n",
        "print(f'Test accuracy: {score[1]}')"
      ],
      "execution_count": 15,
      "outputs": [
        {
          "output_type": "stream",
          "text": [
            "Test loss: 0.30686354637145996\n",
            "Test accuracy: 0.8748483061790466\n"
          ],
          "name": "stdout"
        }
      ]
    },
    {
      "cell_type": "markdown",
      "metadata": {
        "id": "QIP-YWGimRXD"
      },
      "source": [
        "### Classification Report\n",
        "1. Predict classes for the test cases and convert the predictions to discrete values. \n",
        "2. Use the **classification report** to calculate additional evaluation statistics."
      ]
    },
    {
      "cell_type": "code",
      "metadata": {
        "colab": {
          "base_uri": "https://localhost:8080/"
        },
        "id": "QbKHdCs7dpZQ",
        "outputId": "5aef031e-b405-4fe5-c2d0-8216159bae26"
      },
      "source": [
        "y_pred = model.predict(features_test)\n",
        "\n",
        "y_pred = np.argmax(y_pred, axis=1)\n",
        "class_names = ['Spruce/Fir', 'Lodgepole Pine',\n",
        "                   'Ponderosa Pine', 'Cottonwood/Willow',\n",
        "                   'Aspen', 'Douglas-fir', 'Krummholz']\n",
        "print(classification_report(label_test, y_pred, target_names=class_names))"
      ],
      "execution_count": 17,
      "outputs": [
        {
          "output_type": "stream",
          "text": [
            "                   precision    recall  f1-score   support\n",
            "\n",
            "       Spruce/Fir       0.88      0.87      0.88     42368\n",
            "   Lodgepole Pine       0.88      0.91      0.90     56661\n",
            "   Ponderosa Pine       0.79      0.92      0.85      7151\n",
            "Cottonwood/Willow       0.85      0.66      0.74       549\n",
            "            Aspen       0.80      0.48      0.60      1899\n",
            "      Douglas-fir       0.81      0.54      0.65      3473\n",
            "        Krummholz       0.93      0.84      0.88      4102\n",
            "\n",
            "         accuracy                           0.87    116203\n",
            "        macro avg       0.85      0.75      0.79    116203\n",
            "     weighted avg       0.87      0.87      0.87    116203\n",
            "\n"
          ],
          "name": "stdout"
        }
      ]
    },
    {
      "cell_type": "markdown",
      "metadata": {
        "id": "W8ldh5uImQZD"
      },
      "source": [
        "* **Precision**: proportion of positive identifications of the class that were actually correct.\n",
        "* **Recall**: proportion of actual positives of the class that were identified correctly.\n",
        "* **F1 score**: weighted average of precision and recall."
      ]
    },
    {
      "cell_type": "markdown",
      "metadata": {
        "id": "m_EZRYQ6muU2"
      },
      "source": [
        "### Confusion Matrix"
      ]
    },
    {
      "cell_type": "markdown",
      "metadata": {
        "id": "XnynT_BEm0Jb"
      },
      "source": [
        "Define a function to calculate a **confusion matrix** and plot a **heatmap** based on the matrix to further evaluate performance of model.\n",
        "\n",
        "In a confusion matrix, the **boxes along the diagonal** spanning from the top left to bottom right corners are cases that have been classified correctly. \n",
        "\n",
        "Each box (i,j) is equal to the number of observations known to be in group i and predicted to be in group j."
      ]
    },
    {
      "cell_type": "code",
      "metadata": {
        "id": "qxipKV3IeJ52"
      },
      "source": [
        "def plot_heatmap(class_names, y_pred, y_test):\n",
        "  cm = confusion_matrix(y_test, y_pred)\n",
        "  fig, ax = plt.subplots(figsize=(15, 15))\n",
        "  heatmap = sns.heatmap(cm, fmt='g', cmap='Blues', annot=True, ax=ax)\n",
        "  ax.set_xlabel('predicted class')\n",
        "  ax.set_ylabel('True class')\n",
        "  ax.set_title('Confusion matrix')\n",
        "  ax.xaxis.set_ticklabels(class_names)\n",
        "  ax.yaxis.set_ticklabels(class_names)\n",
        "\n",
        "  heatmapfig = heatmap.get_figure()"
      ],
      "execution_count": 18,
      "outputs": []
    },
    {
      "cell_type": "code",
      "metadata": {
        "colab": {
          "base_uri": "https://localhost:8080/",
          "height": 893
        },
        "id": "jzpHhlNCe5VA",
        "outputId": "664d7dfd-0e40-4bd9-8509-cda00852bca6"
      },
      "source": [
        "plot_heatmap(class_names, y_pred, label_test)"
      ],
      "execution_count": 19,
      "outputs": [
        {
          "output_type": "display_data",
          "data": {
            "image/png": "[encoded data removed]",
            "text/plain": [
              "<Figure size 1080x1080 with 2 Axes>"
            ]
          },
          "metadata": {
            "tags": [],
            "needs_background": "light"
          }
        }
      ]
    },
    {
      "cell_type": "markdown",
      "metadata": {
        "id": "rZDfOXHliMCq"
      },
      "source": [
        "## **Conclusion** \n",
        "\n",
        "From the heatmap and confusion matrix, it is evident that Spruce/Fir, Lodgepole Pine, Ponderosa Pine, and Krummholz have, for the most part, been classified correctly.\n",
        "\n",
        "On the other hand Cottonwood Willow, Douglas-fir, and Aspen suffer from a high percentage of mis-classifications. There are many possible causes for this, and some potential aspects to consider include the following:\n",
        "\n",
        "1. Imbalances in the proportion of observations for each cover-type present in the original dataset.\n",
        "2. The distribution of each wilderness area.\n",
        "3. Some independent variables included in the dataset that are not cartographic in nature could be removed (such as proximity to roads).\n",
        "5. Other performance metrics apart from accuracy could be used. Accuracy is more unreliable when data in imbalanced."
      ]
    }
  ]
}